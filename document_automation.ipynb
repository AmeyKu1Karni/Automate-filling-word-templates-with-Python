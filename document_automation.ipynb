{
 "cells": [
  {
   "cell_type": "code",
   "execution_count": 50,
   "metadata": {},
   "outputs": [],
   "source": [
    "#Import required dependencies\n",
    "import os\n",
    "from openpyxl import load_workbook\n",
    "from docx import Document\n",
    "from docxtpl import DocxTemplate"
   ]
  },
  {
   "cell_type": "code",
   "execution_count": 51,
   "metadata": {},
   "outputs": [
    {
     "data": {
      "text/plain": [
       "'C:\\\\Users\\\\Amey\\\\Desktop\\\\assignment'"
      ]
     },
     "execution_count": 51,
     "metadata": {},
     "output_type": "execute_result"
    }
   ],
   "source": [
    "os.getcwd()"
   ]
  },
  {
   "cell_type": "code",
   "execution_count": 52,
   "metadata": {},
   "outputs": [],
   "source": [
    "#Define the paths for all the template files and Excel data\n",
    "main_path=r'C:\\\\Users\\\\Amey\\\\Desktop\\\\assignment'\n",
    "template_path1=r\"C:\\Users\\Amey\\Desktop\\assignment\\temp_file_1.docx\"\n",
    "template_path2=r\"C:\\Users\\Amey\\Desktop\\assignment\\temp_file_2.docx\"\n",
    "template_path3=r\"C:\\Users\\Amey\\Desktop\\assignment\\temp_file_3.docx\"\n",
    "template_path4=r\"C:\\Users\\Amey\\Desktop\\assignment\\temp_file_4.docx\"\n",
    "template_path5=r\"C:\\Users\\Amey\\Desktop\\assignment\\temp_file_5.docx\"\n",
    "workbook_path=r\"C:\\Users\\Amey\\Desktop\\assignment\\data.xlsx\""
   ]
  },
  {
   "cell_type": "code",
   "execution_count": 53,
   "metadata": {},
   "outputs": [],
   "source": [
    "#Load the workbook and all the template files\n",
    "workbook = load_workbook(workbook_path)\n",
    "template1 = DocxTemplate(template_path1)\n",
    "template2=DocxTemplate(template_path2)\n",
    "template3=DocxTemplate(template_path3)\n",
    "template4=DocxTemplate(template_path4)\n",
    "template5=DocxTemplate(template_path5)\n",
    "worksheet = workbook[\"Sheet1\"]"
   ]
  },
  {
   "cell_type": "code",
   "execution_count": 54,
   "metadata": {},
   "outputs": [],
   "source": [
    "#Dictionary which will take values from Excel data\n",
    "to_fill_in = {'name' : None\n",
    ",\n",
    "              'company' : None,\n",
    "              'address' : None,\n",
    "              'number': None,\n",
    "              'list' : None\n",
    "              }"
   ]
  },
  {
   "cell_type": "code",
   "execution_count": 55,
   "metadata": {},
   "outputs": [
    {
     "name": "stdout",
     "output_type": "stream",
     "text": [
      "2\n",
      "Done\n"
     ]
    }
   ],
   "source": [
    "column = 2\n",
    "\n",
    "# print out the maximum columns that are filled in in the excel file\n",
    "print(worksheet.max_column)\n",
    "\n",
    "# Perform the following code block if the colomn amoumnt is less than the maximum column amount.\n",
    "while column <= worksheet.max_column:\n",
    "\n",
    "   # Define the column index. This is a letter so you need to convert the column number to a letter (2+64) = B\n",
    "   col_index = chr(column+64)\n",
    "   row_index = 1\n",
    "   # Retrieve the values from excel document and store in dictionary you defined earlier on\n",
    "   # For each key in the dictionary, we look up the value in the excel file and store it instead of \"none\" in the dictionary\n",
    "   for key in to_fill_in:\n",
    "       cell = '%s%i' % (col_index, row_index)\n",
    "       to_fill_in[key] = worksheet[cell].value\n",
    "       row_index += 1\n",
    "    \n",
    "   # Fill in all the keys defined in the word document using the dictionary.\n",
    "   # The keys in de word document are identified by the {{}}symbols.\n",
    "   template1.render(to_fill_in)\n",
    "   template2.render(to_fill_in)\n",
    "   template3.render(to_fill_in)\n",
    "   template4.render(to_fill_in)\n",
    "   template5.render(to_fill_in)\n",
    "   \n",
    "   # Output the file to a docx document.\n",
    "   filename1 = 'temp_file1_filled.docx'#filenames for each of the 5 template files\n",
    "   filename2= 'temp_file2_filled.docx'\n",
    "   filename3='temp_file3_filled.docx'\n",
    "   filename4='temp_file4_filled.docx'\n",
    "   filename5='temp_file5_filled.docx'\n",
    "   #Making the nested directories on Desktop\n",
    "   os.makedirs(r'C:\\\\Users\\\\Amey\\\\Desktop\\\\Master Folder')\n",
    "   save_path1=r'C:\\\\Users\\\\Amey\\\\Desktop\\\\Master Folder'\n",
    "   os.makedirs(r'C:\\\\Users\\\\Amey\\\\Desktop\\\\Master Folder\\\\Annex A')\n",
    "   save_path2=r'C:\\\\Users\\\\Amey\\\\Desktop\\\\Master Folder\\\\Annex A'\n",
    "   os.makedirs(r'C:\\\\Users\\\\Amey\\\\Desktop\\\\Master Folder\\\\Annex B')\n",
    "   save_path3=r'C:\\\\Users\\\\Amey\\\\Desktop\\\\Master Folder\\\\Annex B'\n",
    "   os.makedirs(r'C:\\\\Users\\\\Amey\\\\Desktop\\\\Master Folder\\\\Annex C')\n",
    "   save_path4=r'C:\\\\Users\\\\Amey\\\\Desktop\\\\Master Folder\\\\Annex C'\n",
    "   filled_path1 = os.path.join(save_path1, filename1) #Placing the completed template files in their destination folders\n",
    "   filled_path2 = os.path.join(save_path2,filename2)\n",
    "   filled_path3 = os.path.join(save_path3,filename3)\n",
    "   filled_path4 = os.path.join(save_path4,filename4)\n",
    "   filled_path5 = os.path.join(save_path4,filename5)\n",
    "   template1.save(filled_path1)\n",
    "   template2.save(filled_path2)\n",
    "   template3.save(filled_path3)\n",
    "   template4.save(filled_path4)\n",
    "   template5.save(filled_path5)\n",
    "   print(\"Done\")\n",
    "   column += 1"
   ]
  },
  {
   "cell_type": "code",
   "execution_count": null,
   "metadata": {},
   "outputs": [],
   "source": []
  },
  {
   "cell_type": "code",
   "execution_count": null,
   "metadata": {},
   "outputs": [],
   "source": []
  }
 ],
 "metadata": {
  "kernelspec": {
   "display_name": "Python 3.9.12 ('base')",
   "language": "python",
   "name": "python3"
  },
  "language_info": {
   "codemirror_mode": {
    "name": "ipython",
    "version": 3
   },
   "file_extension": ".py",
   "mimetype": "text/x-python",
   "name": "python",
   "nbconvert_exporter": "python",
   "pygments_lexer": "ipython3",
   "version": "3.9.12"
  },
  "orig_nbformat": 4,
  "vscode": {
   "interpreter": {
    "hash": "cfc3cdf5e45d3b3d37bf5af8ead71989c88886d5b2626e3e8b184e84f9410672"
   }
  }
 },
 "nbformat": 4,
 "nbformat_minor": 2
}
